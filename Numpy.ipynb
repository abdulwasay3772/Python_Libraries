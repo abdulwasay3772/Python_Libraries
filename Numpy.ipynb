{
  "nbformat": 4,
  "nbformat_minor": 0,
  "metadata": {
    "colab": {
      "name": "Numpy.ipynb",
      "provenance": [],
      "collapsed_sections": []
    },
    "kernelspec": {
      "name": "python3",
      "display_name": "Python 3"
    },
    "language_info": {
      "name": "python"
    }
  },
  "cells": [
    {
      "cell_type": "markdown",
      "source": [
        "### **Simple Array**"
      ],
      "metadata": {
        "id": "I-tpg5MzdW4I"
      }
    },
    {
      "cell_type": "code",
      "execution_count": 1,
      "metadata": {
        "colab": {
          "base_uri": "https://localhost:8080/"
        },
        "id": "GkqucDqgdSXM",
        "outputId": "b2806e4b-c4d1-4251-e01b-30d4de09bd5c"
      },
      "outputs": [
        {
          "output_type": "execute_result",
          "data": {
            "text/plain": [
              "[1, 2, 3, 4, 5, 10, 11, 12, 13, 14]"
            ]
          },
          "metadata": {},
          "execution_count": 1
        }
      ],
      "source": [
        "a=[1,2,3,4,5]\n",
        "b=[10,11,12,13,14]\n",
        "a+b"
      ]
    },
    {
      "cell_type": "code",
      "source": [
        "result=[]\n",
        "for first, second in zip(a,b):\n",
        "  result.append(first + second)\n",
        "result"
      ],
      "metadata": {
        "colab": {
          "base_uri": "https://localhost:8080/"
        },
        "id": "LDkcMEFLd-4y",
        "outputId": "682427db-d1ab-416c-cf95-b2dac7cd156a"
      },
      "execution_count": 3,
      "outputs": [
        {
          "output_type": "execute_result",
          "data": {
            "text/plain": [
              "[11, 13, 15, 17, 19]"
            ]
          },
          "metadata": {},
          "execution_count": 3
        }
      ]
    },
    {
      "cell_type": "markdown",
      "source": [
        "### **Numpy**"
      ],
      "metadata": {
        "id": "jSjcSl-ie_2r"
      }
    },
    {
      "cell_type": "code",
      "source": [
        "import numpy as np\n",
        "a=np.array([1,2,3,4])\n",
        "type(a)"
      ],
      "metadata": {
        "colab": {
          "base_uri": "https://localhost:8080/"
        },
        "id": "sLAoAvz3ef3I",
        "outputId": "4976ee29-1110-4113-e641-94a9d8b50342"
      },
      "execution_count": 31,
      "outputs": [
        {
          "output_type": "execute_result",
          "data": {
            "text/plain": [
              "numpy.ndarray"
            ]
          },
          "metadata": {},
          "execution_count": 31
        }
      ]
    },
    {
      "cell_type": "code",
      "source": [
        "a.dtype"
      ],
      "metadata": {
        "colab": {
          "base_uri": "https://localhost:8080/"
        },
        "id": "9EJor1MHe1v_",
        "outputId": "bd6dd9ea-5fa0-4dea-ba3c-683583f7d9ff"
      },
      "execution_count": 32,
      "outputs": [
        {
          "output_type": "execute_result",
          "data": {
            "text/plain": [
              "dtype('int64')"
            ]
          },
          "metadata": {},
          "execution_count": 32
        }
      ]
    },
    {
      "cell_type": "code",
      "source": [
        "f=np.array([1.2,2.3,4.5,5.6])\n",
        "f.dtype"
      ],
      "metadata": {
        "colab": {
          "base_uri": "https://localhost:8080/"
        },
        "id": "rN3X5X8MfPHh",
        "outputId": "3b0a04f3-f6c7-4d57-cb9a-d72f0875531a"
      },
      "execution_count": 33,
      "outputs": [
        {
          "output_type": "execute_result",
          "data": {
            "text/plain": [
              "dtype('float64')"
            ]
          },
          "metadata": {},
          "execution_count": 33
        }
      ]
    },
    {
      "cell_type": "code",
      "source": [
        "a"
      ],
      "metadata": {
        "colab": {
          "base_uri": "https://localhost:8080/"
        },
        "id": "YLc-FXk6fcFP",
        "outputId": "a238d719-7449-445a-f3c8-1c216c61d93d"
      },
      "execution_count": 34,
      "outputs": [
        {
          "output_type": "execute_result",
          "data": {
            "text/plain": [
              "array([1, 2, 3, 4])"
            ]
          },
          "metadata": {},
          "execution_count": 34
        }
      ]
    },
    {
      "cell_type": "code",
      "source": [
        "a[0]"
      ],
      "metadata": {
        "colab": {
          "base_uri": "https://localhost:8080/"
        },
        "id": "ZXWlygf3fgNi",
        "outputId": "b41742ed-ec82-40af-b08c-17f7081e24d6"
      },
      "execution_count": 35,
      "outputs": [
        {
          "output_type": "execute_result",
          "data": {
            "text/plain": [
              "1"
            ]
          },
          "metadata": {},
          "execution_count": 35
        }
      ]
    },
    {
      "cell_type": "code",
      "source": [
        "a[0]=10"
      ],
      "metadata": {
        "id": "o02ps0HYfifb"
      },
      "execution_count": 36,
      "outputs": []
    },
    {
      "cell_type": "code",
      "source": [
        "a"
      ],
      "metadata": {
        "colab": {
          "base_uri": "https://localhost:8080/"
        },
        "id": "XIyyGkp-fmbC",
        "outputId": "573ba542-8ca1-47da-c6a7-98d38ecdaa5c"
      },
      "execution_count": 37,
      "outputs": [
        {
          "output_type": "execute_result",
          "data": {
            "text/plain": [
              "array([10,  2,  3,  4])"
            ]
          },
          "metadata": {},
          "execution_count": 37
        }
      ]
    },
    {
      "cell_type": "code",
      "source": [
        "a[0]=11.5"
      ],
      "metadata": {
        "id": "pbEK-a64foKe"
      },
      "execution_count": 38,
      "outputs": []
    },
    {
      "cell_type": "code",
      "source": [
        "a"
      ],
      "metadata": {
        "colab": {
          "base_uri": "https://localhost:8080/"
        },
        "id": "n-cPJ2WIfs0O",
        "outputId": "38677e24-9a3d-491c-8a77-c79fc34d8e22"
      },
      "execution_count": 39,
      "outputs": [
        {
          "output_type": "execute_result",
          "data": {
            "text/plain": [
              "array([11,  2,  3,  4])"
            ]
          },
          "metadata": {},
          "execution_count": 39
        }
      ]
    },
    {
      "cell_type": "code",
      "source": [
        "a.ndim"
      ],
      "metadata": {
        "colab": {
          "base_uri": "https://localhost:8080/"
        },
        "id": "M0_qzBDWfvBy",
        "outputId": "6c71c785-1568-4d1c-f365-660a9d6dde70"
      },
      "execution_count": 40,
      "outputs": [
        {
          "output_type": "execute_result",
          "data": {
            "text/plain": [
              "1"
            ]
          },
          "metadata": {},
          "execution_count": 40
        }
      ]
    },
    {
      "cell_type": "code",
      "source": [
        "a.shape"
      ],
      "metadata": {
        "colab": {
          "base_uri": "https://localhost:8080/"
        },
        "id": "cS3sTJu0fywi",
        "outputId": "207fb2ce-0d77-4dea-bded-608cad41bef6"
      },
      "execution_count": 41,
      "outputs": [
        {
          "output_type": "execute_result",
          "data": {
            "text/plain": [
              "(4,)"
            ]
          },
          "metadata": {},
          "execution_count": 41
        }
      ]
    },
    {
      "cell_type": "code",
      "source": [
        "a.size"
      ],
      "metadata": {
        "colab": {
          "base_uri": "https://localhost:8080/"
        },
        "id": "bJWkSvvSgilm",
        "outputId": "437391a3-92d4-4a1d-8488-542f42867719"
      },
      "execution_count": 42,
      "outputs": [
        {
          "output_type": "execute_result",
          "data": {
            "text/plain": [
              "4"
            ]
          },
          "metadata": {},
          "execution_count": 42
        }
      ]
    },
    {
      "cell_type": "code",
      "source": [
        "a"
      ],
      "metadata": {
        "colab": {
          "base_uri": "https://localhost:8080/"
        },
        "id": "d70vGtuGgxFL",
        "outputId": "74c8cbf9-5a89-4620-d9f7-93f718d74e02"
      },
      "execution_count": 43,
      "outputs": [
        {
          "output_type": "execute_result",
          "data": {
            "text/plain": [
              "array([11,  2,  3,  4])"
            ]
          },
          "metadata": {},
          "execution_count": 43
        }
      ]
    },
    {
      "cell_type": "code",
      "source": [
        "f"
      ],
      "metadata": {
        "colab": {
          "base_uri": "https://localhost:8080/"
        },
        "id": "qUShCqZRgzyK",
        "outputId": "f456359c-b8a5-437f-bf8b-84b3580c6ba1"
      },
      "execution_count": 44,
      "outputs": [
        {
          "output_type": "execute_result",
          "data": {
            "text/plain": [
              "array([1.2, 2.3, 4.5, 5.6])"
            ]
          },
          "metadata": {},
          "execution_count": 44
        }
      ]
    },
    {
      "cell_type": "code",
      "source": [
        "a+f"
      ],
      "metadata": {
        "colab": {
          "base_uri": "https://localhost:8080/"
        },
        "id": "s1ksL5Y5g1L2",
        "outputId": "a8210ca7-7982-4c0b-f509-8ba7b270d344"
      },
      "execution_count": 45,
      "outputs": [
        {
          "output_type": "execute_result",
          "data": {
            "text/plain": [
              "array([12.2,  4.3,  7.5,  9.6])"
            ]
          },
          "metadata": {},
          "execution_count": 45
        }
      ]
    },
    {
      "cell_type": "code",
      "source": [
        "a*f"
      ],
      "metadata": {
        "colab": {
          "base_uri": "https://localhost:8080/"
        },
        "id": "4IQ5xzLtg4i2",
        "outputId": "0507f599-4e76-4ce8-c491-a22d9a64c18e"
      },
      "execution_count": 46,
      "outputs": [
        {
          "output_type": "execute_result",
          "data": {
            "text/plain": [
              "array([13.2,  4.6, 13.5, 22.4])"
            ]
          },
          "metadata": {},
          "execution_count": 46
        }
      ]
    },
    {
      "cell_type": "code",
      "source": [
        "a/f"
      ],
      "metadata": {
        "colab": {
          "base_uri": "https://localhost:8080/"
        },
        "id": "NvVDZyKfg_I9",
        "outputId": "32216e18-a4f7-4805-e2b4-0a68fc0e8477"
      },
      "execution_count": 47,
      "outputs": [
        {
          "output_type": "execute_result",
          "data": {
            "text/plain": [
              "array([9.16666667, 0.86956522, 0.66666667, 0.71428571])"
            ]
          },
          "metadata": {},
          "execution_count": 47
        }
      ]
    },
    {
      "cell_type": "code",
      "source": [
        "f**a"
      ],
      "metadata": {
        "colab": {
          "base_uri": "https://localhost:8080/"
        },
        "id": "zfU-wdkzhEct",
        "outputId": "7edfc597-cbec-48b5-e970-8f0dbd85f624"
      },
      "execution_count": 48,
      "outputs": [
        {
          "output_type": "execute_result",
          "data": {
            "text/plain": [
              "array([  7.43008371,   5.29      ,  91.125     , 983.4496    ])"
            ]
          },
          "metadata": {},
          "execution_count": 48
        }
      ]
    },
    {
      "cell_type": "code",
      "source": [
        "a"
      ],
      "metadata": {
        "colab": {
          "base_uri": "https://localhost:8080/"
        },
        "id": "16skWyGthTqB",
        "outputId": "c21fb775-268e-4dbb-d9a1-ec220342538d"
      },
      "execution_count": 49,
      "outputs": [
        {
          "output_type": "execute_result",
          "data": {
            "text/plain": [
              "array([11,  2,  3,  4])"
            ]
          },
          "metadata": {},
          "execution_count": 49
        }
      ]
    },
    {
      "cell_type": "code",
      "source": [
        "a*10"
      ],
      "metadata": {
        "colab": {
          "base_uri": "https://localhost:8080/"
        },
        "id": "4RZxF69VhW16",
        "outputId": "228e3efa-0285-4878-8847-b89d9ffacd28"
      },
      "execution_count": 50,
      "outputs": [
        {
          "output_type": "execute_result",
          "data": {
            "text/plain": [
              "array([110,  20,  30,  40])"
            ]
          },
          "metadata": {},
          "execution_count": 50
        }
      ]
    },
    {
      "cell_type": "code",
      "source": [
        "#universal functions (ufuncs)\n",
        "np.sin(a)"
      ],
      "metadata": {
        "colab": {
          "base_uri": "https://localhost:8080/"
        },
        "id": "4T4bcilzhY6_",
        "outputId": "ac62ef0e-2487-4c2b-d63f-f1b41c948020"
      },
      "execution_count": 51,
      "outputs": [
        {
          "output_type": "execute_result",
          "data": {
            "text/plain": [
              "array([-0.99999021,  0.90929743,  0.14112001, -0.7568025 ])"
            ]
          },
          "metadata": {},
          "execution_count": 51
        }
      ]
    },
    {
      "cell_type": "markdown",
      "source": [
        "### **Multi-Dimensional Arrays**"
      ],
      "metadata": {
        "id": "tJqJaZtFh3G0"
      }
    },
    {
      "cell_type": "code",
      "source": [
        "a=np.array([[0,1,2,3],[10,11,12,13]])"
      ],
      "metadata": {
        "id": "ALUm25B-hxap"
      },
      "execution_count": 52,
      "outputs": []
    },
    {
      "cell_type": "code",
      "source": [
        "a"
      ],
      "metadata": {
        "colab": {
          "base_uri": "https://localhost:8080/"
        },
        "id": "uRK34ssBia2S",
        "outputId": "29a81a71-9596-4b74-ea8e-618a6cc896bd"
      },
      "execution_count": 53,
      "outputs": [
        {
          "output_type": "execute_result",
          "data": {
            "text/plain": [
              "array([[ 0,  1,  2,  3],\n",
              "       [10, 11, 12, 13]])"
            ]
          },
          "metadata": {},
          "execution_count": 53
        }
      ]
    },
    {
      "cell_type": "code",
      "source": [
        "a.shape"
      ],
      "metadata": {
        "colab": {
          "base_uri": "https://localhost:8080/"
        },
        "id": "hWWXiML_idFI",
        "outputId": "d0ff37a0-bc4b-4984-900e-ab8117010040"
      },
      "execution_count": 54,
      "outputs": [
        {
          "output_type": "execute_result",
          "data": {
            "text/plain": [
              "(2, 4)"
            ]
          },
          "metadata": {},
          "execution_count": 54
        }
      ]
    },
    {
      "cell_type": "code",
      "source": [
        "a.size"
      ],
      "metadata": {
        "colab": {
          "base_uri": "https://localhost:8080/"
        },
        "id": "_7_xz-HUihX7",
        "outputId": "2b67f5bc-c56a-427a-d1a8-f91ca995c202"
      },
      "execution_count": 55,
      "outputs": [
        {
          "output_type": "execute_result",
          "data": {
            "text/plain": [
              "8"
            ]
          },
          "metadata": {},
          "execution_count": 55
        }
      ]
    },
    {
      "cell_type": "code",
      "source": [
        "a.ndim"
      ],
      "metadata": {
        "colab": {
          "base_uri": "https://localhost:8080/"
        },
        "id": "78FmYMF6imqN",
        "outputId": "662f80f6-26ca-468b-d03c-842fbec967b4"
      },
      "execution_count": 58,
      "outputs": [
        {
          "output_type": "execute_result",
          "data": {
            "text/plain": [
              "2"
            ]
          },
          "metadata": {},
          "execution_count": 58
        }
      ]
    },
    {
      "cell_type": "code",
      "source": [
        "a[1,3]"
      ],
      "metadata": {
        "colab": {
          "base_uri": "https://localhost:8080/"
        },
        "id": "siyofUk6iuYe",
        "outputId": "f4f5663d-ff18-4090-dd40-d06ca7ccd655"
      },
      "execution_count": 59,
      "outputs": [
        {
          "output_type": "execute_result",
          "data": {
            "text/plain": [
              "13"
            ]
          },
          "metadata": {},
          "execution_count": 59
        }
      ]
    },
    {
      "cell_type": "code",
      "source": [
        "a[1,3]=-1\n",
        "a"
      ],
      "metadata": {
        "colab": {
          "base_uri": "https://localhost:8080/"
        },
        "id": "lYNl8a_ui4Y8",
        "outputId": "8fc2dfad-6f12-4937-da83-aca4de8ce4a3"
      },
      "execution_count": 60,
      "outputs": [
        {
          "output_type": "execute_result",
          "data": {
            "text/plain": [
              "array([[ 0,  1,  2,  3],\n",
              "       [10, 11, 12, -1]])"
            ]
          },
          "metadata": {},
          "execution_count": 60
        }
      ]
    },
    {
      "cell_type": "code",
      "source": [
        "a[0]"
      ],
      "metadata": {
        "colab": {
          "base_uri": "https://localhost:8080/"
        },
        "id": "j2dZxSEpjGSw",
        "outputId": "f6358f03-a570-47f5-9bcd-2e51ba175c5c"
      },
      "execution_count": 62,
      "outputs": [
        {
          "output_type": "execute_result",
          "data": {
            "text/plain": [
              "array([0, 1, 2, 3])"
            ]
          },
          "metadata": {},
          "execution_count": 62
        }
      ]
    },
    {
      "cell_type": "code",
      "source": [
        "a[1]"
      ],
      "metadata": {
        "colab": {
          "base_uri": "https://localhost:8080/"
        },
        "id": "ccAAsMTojCfV",
        "outputId": "bfe93ec9-91a5-4b1c-c797-80d81465f84f"
      },
      "execution_count": 61,
      "outputs": [
        {
          "output_type": "execute_result",
          "data": {
            "text/plain": [
              "array([10, 11, 12, -1])"
            ]
          },
          "metadata": {},
          "execution_count": 61
        }
      ]
    },
    {
      "cell_type": "markdown",
      "source": [
        "### **Slicing**"
      ],
      "metadata": {
        "id": "igmy5Ty-jN_d"
      }
    },
    {
      "cell_type": "markdown",
      "source": [
        "*var[lower:upper:step]*"
      ],
      "metadata": {
        "id": "CBKKxcyGwy9J"
      }
    },
    {
      "cell_type": "markdown",
      "source": [
        "Extrcts a portion of a sequence by specifying a lower and upper bound."
      ],
      "metadata": {
        "id": "3ySCxJm7w9oC"
      }
    },
    {
      "cell_type": "code",
      "source": [
        "#          -5 -4 -3 -2 -1\n",
        "# indices:  0  1  2  3  4\n",
        "a = np.array([10,11,12,13,14])"
      ],
      "metadata": {
        "id": "LXINXCuVjQws"
      },
      "execution_count": 66,
      "outputs": []
    },
    {
      "cell_type": "code",
      "source": [
        "# [10, 11, 12, 13, 14]\n",
        "a[1:3]"
      ],
      "metadata": {
        "colab": {
          "base_uri": "https://localhost:8080/"
        },
        "id": "6-tnpyNHxNRC",
        "outputId": "c03316a0-af2a-45f4-9c46-3f1df0dde646"
      },
      "execution_count": 67,
      "outputs": [
        {
          "output_type": "execute_result",
          "data": {
            "text/plain": [
              "array([11, 12])"
            ]
          },
          "metadata": {},
          "execution_count": 67
        }
      ]
    },
    {
      "cell_type": "code",
      "source": [
        "# negative indices work also\n",
        "a[1:-2]"
      ],
      "metadata": {
        "colab": {
          "base_uri": "https://localhost:8080/"
        },
        "id": "0REeCKqQxR-d",
        "outputId": "2533d882-1939-4d14-82d8-3396b59c0469"
      },
      "execution_count": 68,
      "outputs": [
        {
          "output_type": "execute_result",
          "data": {
            "text/plain": [
              "array([11, 12])"
            ]
          },
          "metadata": {},
          "execution_count": 68
        }
      ]
    },
    {
      "cell_type": "code",
      "source": [
        "a[-4:3]"
      ],
      "metadata": {
        "colab": {
          "base_uri": "https://localhost:8080/"
        },
        "id": "zEeYPxnpxlfZ",
        "outputId": "e0fb2614-3755-4015-f877-03562d2bf531"
      },
      "execution_count": 69,
      "outputs": [
        {
          "output_type": "execute_result",
          "data": {
            "text/plain": [
              "array([11, 12])"
            ]
          },
          "metadata": {},
          "execution_count": 69
        }
      ]
    },
    {
      "cell_type": "markdown",
      "source": [
        "### **Omiting Slicing**"
      ],
      "metadata": {
        "id": "U2YQnH4Hx0JY"
      }
    },
    {
      "cell_type": "code",
      "source": [
        "# omitted boundaries are\n",
        "# assumed to be the beginning\n",
        "# (or end) of the list\n",
        "\n",
        "# grab first three elements\n",
        "a[:3]"
      ],
      "metadata": {
        "colab": {
          "base_uri": "https://localhost:8080/"
        },
        "id": "CFXdbXgRx3ev",
        "outputId": "57eb46ac-40d5-461b-b35a-b1ac5e158553"
      },
      "execution_count": 71,
      "outputs": [
        {
          "output_type": "execute_result",
          "data": {
            "text/plain": [
              "array([10, 11, 12])"
            ]
          },
          "metadata": {},
          "execution_count": 71
        }
      ]
    },
    {
      "cell_type": "code",
      "source": [
        "# grab last two elements\n",
        "a[-2:]"
      ],
      "metadata": {
        "colab": {
          "base_uri": "https://localhost:8080/"
        },
        "id": "GVf1QwjYx-gk",
        "outputId": "d24fa516-75e5-47e8-ed8b-2609894cf45a"
      },
      "execution_count": 72,
      "outputs": [
        {
          "output_type": "execute_result",
          "data": {
            "text/plain": [
              "array([13, 14])"
            ]
          },
          "metadata": {},
          "execution_count": 72
        }
      ]
    },
    {
      "cell_type": "code",
      "source": [
        "# every other element\n",
        "a[::2]"
      ],
      "metadata": {
        "colab": {
          "base_uri": "https://localhost:8080/"
        },
        "id": "GBoXHgAyyBXv",
        "outputId": "45212058-5050-44ce-f4b5-1ceb35ca13f6"
      },
      "execution_count": 73,
      "outputs": [
        {
          "output_type": "execute_result",
          "data": {
            "text/plain": [
              "array([10, 12, 14])"
            ]
          },
          "metadata": {},
          "execution_count": 73
        }
      ]
    },
    {
      "cell_type": "markdown",
      "source": [
        "### **Array Slicing**"
      ],
      "metadata": {
        "id": "h1Yss0eWyP7K"
      }
    },
    {
      "cell_type": "markdown",
      "source": [
        "Slicing works much like standard python slicing"
      ],
      "metadata": {
        "id": "LBUTN7pnyTtG"
      }
    },
    {
      "cell_type": "code",
      "source": [
        "a=[[0,1,2,3,4,5],[10,11,12,13,14,15],[20,21,22,23,24,25],[30,31,32,33,34,35],[40,41,42,43,44,45],[50,51,52,53,54,55]]"
      ],
      "metadata": {
        "id": "FtVMKzJ8yvea"
      },
      "execution_count": 75,
      "outputs": []
    },
    {
      "cell_type": "code",
      "source": [
        "a"
      ],
      "metadata": {
        "colab": {
          "base_uri": "https://localhost:8080/"
        },
        "id": "RFeji_UwzN2-",
        "outputId": "5c70ebc5-846d-4210-e6af-33720b6b66c6"
      },
      "execution_count": 77,
      "outputs": [
        {
          "output_type": "execute_result",
          "data": {
            "text/plain": [
              "[[0, 1, 2, 3, 4, 5],\n",
              " [10, 11, 12, 13, 14, 15],\n",
              " [20, 21, 22, 23, 24, 25],\n",
              " [30, 31, 32, 33, 34, 35],\n",
              " [40, 41, 42, 43, 44, 45],\n",
              " [50, 51, 52, 53, 54, 55]]"
            ]
          },
          "metadata": {},
          "execution_count": 77
        }
      ]
    },
    {
      "cell_type": "code",
      "source": [
        "a[0]"
      ],
      "metadata": {
        "colab": {
          "base_uri": "https://localhost:8080/"
        },
        "id": "-sxiZYj3yY_t",
        "outputId": "a9d3f73a-6d8c-4efb-ddfa-7c72536b73a8"
      },
      "execution_count": 81,
      "outputs": [
        {
          "output_type": "execute_result",
          "data": {
            "text/plain": [
              "[0, 1, 2, 3, 4, 5]"
            ]
          },
          "metadata": {},
          "execution_count": 81
        }
      ]
    },
    {
      "cell_type": "code",
      "source": [
        "a[3:5]"
      ],
      "metadata": {
        "colab": {
          "base_uri": "https://localhost:8080/"
        },
        "id": "9F29t3byzY8V",
        "outputId": "41262232-392f-4f09-e3a0-c1f988bd51c7"
      },
      "execution_count": 82,
      "outputs": [
        {
          "output_type": "execute_result",
          "data": {
            "text/plain": [
              "[[30, 31, 32, 33, 34, 35], [40, 41, 42, 43, 44, 45]]"
            ]
          },
          "metadata": {},
          "execution_count": 82
        }
      ]
    },
    {
      "cell_type": "code",
      "source": [
        "a[4:]"
      ],
      "metadata": {
        "colab": {
          "base_uri": "https://localhost:8080/"
        },
        "id": "L4aLc0d3ziWa",
        "outputId": "e5ffe397-de8c-46b6-ab1e-bcee2547b647"
      },
      "execution_count": 84,
      "outputs": [
        {
          "output_type": "execute_result",
          "data": {
            "text/plain": [
              "[[40, 41, 42, 43, 44, 45], [50, 51, 52, 53, 54, 55]]"
            ]
          },
          "metadata": {},
          "execution_count": 84
        }
      ]
    },
    {
      "cell_type": "code",
      "source": [
        "a = np.array([0, 1, 2, 3, 4])"
      ],
      "metadata": {
        "id": "pSYvIIrf0QPL"
      },
      "execution_count": 88,
      "outputs": []
    },
    {
      "cell_type": "code",
      "source": [
        "# slicing the last two elements returns the data there\n",
        "a[-2:]"
      ],
      "metadata": {
        "colab": {
          "base_uri": "https://localhost:8080/"
        },
        "id": "8QB3-gVZ0TMy",
        "outputId": "43e3f9b4-71fc-4e1d-af72-ca382d1e369e"
      },
      "execution_count": 89,
      "outputs": [
        {
          "output_type": "execute_result",
          "data": {
            "text/plain": [
              "array([3, 4])"
            ]
          },
          "metadata": {},
          "execution_count": 89
        }
      ]
    },
    {
      "cell_type": "code",
      "source": [
        "# we can insert an iterable of length two\n",
        "a[-2:] = [-1, -2]\n",
        "a"
      ],
      "metadata": {
        "colab": {
          "base_uri": "https://localhost:8080/"
        },
        "id": "74sSuGL10W86",
        "outputId": "cd74c9ec-721a-4b4f-8fd9-ee74eabf555d"
      },
      "execution_count": 90,
      "outputs": [
        {
          "output_type": "execute_result",
          "data": {
            "text/plain": [
              "array([ 0,  1,  2, -1, -2])"
            ]
          },
          "metadata": {},
          "execution_count": 90
        }
      ]
    },
    {
      "cell_type": "code",
      "source": [
        "# or a scalar value\n",
        "a[-2:] = 99\n",
        "a"
      ],
      "metadata": {
        "colab": {
          "base_uri": "https://localhost:8080/"
        },
        "id": "JNbDqYgg0blv",
        "outputId": "bc8aeb58-22a8-4444-884b-924364a1a8b8"
      },
      "execution_count": 91,
      "outputs": [
        {
          "output_type": "execute_result",
          "data": {
            "text/plain": [
              "array([ 0,  1,  2, 99, 99])"
            ]
          },
          "metadata": {},
          "execution_count": 91
        }
      ]
    },
    {
      "cell_type": "code",
      "source": [
        "a = np.arange(25).reshape(5, 5)"
      ],
      "metadata": {
        "id": "icn1Poby0iGq"
      },
      "execution_count": 104,
      "outputs": []
    },
    {
      "cell_type": "code",
      "source": [
        "a"
      ],
      "metadata": {
        "colab": {
          "base_uri": "https://localhost:8080/"
        },
        "id": "ZwScuYQy7F_K",
        "outputId": "aabb159a-4645-4583-8070-eb536ba1a603"
      },
      "execution_count": 105,
      "outputs": [
        {
          "output_type": "execute_result",
          "data": {
            "text/plain": [
              "array([[ 0,  1,  2,  3,  4],\n",
              "       [ 5,  6,  7,  8,  9],\n",
              "       [10, 11, 12, 13, 14],\n",
              "       [15, 16, 17, 18, 19],\n",
              "       [20, 21, 22, 23, 24]])"
            ]
          },
          "metadata": {},
          "execution_count": 105
        }
      ]
    },
    {
      "cell_type": "code",
      "source": [
        "a[:,::2]"
      ],
      "metadata": {
        "colab": {
          "base_uri": "https://localhost:8080/"
        },
        "id": "jKbWpdid7TcW",
        "outputId": "1db4c400-4b95-4d9d-d0cb-12668c137392"
      },
      "execution_count": 106,
      "outputs": [
        {
          "output_type": "execute_result",
          "data": {
            "text/plain": [
              "array([[ 0,  2,  4],\n",
              "       [ 5,  7,  9],\n",
              "       [10, 12, 14],\n",
              "       [15, 17, 19],\n",
              "       [20, 22, 24]])"
            ]
          },
          "metadata": {},
          "execution_count": 106
        }
      ]
    },
    {
      "cell_type": "code",
      "source": [
        "a[4,:]"
      ],
      "metadata": {
        "colab": {
          "base_uri": "https://localhost:8080/"
        },
        "id": "zeKtZdGS7eU-",
        "outputId": "9985d5c5-2d2b-4bab-f0ba-21229ddcae10"
      },
      "execution_count": 107,
      "outputs": [
        {
          "output_type": "execute_result",
          "data": {
            "text/plain": [
              "array([20, 21, 22, 23, 24])"
            ]
          },
          "metadata": {},
          "execution_count": 107
        }
      ]
    },
    {
      "cell_type": "code",
      "source": [
        "a[4]"
      ],
      "metadata": {
        "colab": {
          "base_uri": "https://localhost:8080/"
        },
        "id": "ZlepL3Cl7hPP",
        "outputId": "9046e4bc-6138-4632-cd57-7bbcd154fa9d"
      },
      "execution_count": 108,
      "outputs": [
        {
          "output_type": "execute_result",
          "data": {
            "text/plain": [
              "array([20, 21, 22, 23, 24])"
            ]
          },
          "metadata": {},
          "execution_count": 108
        }
      ]
    },
    {
      "cell_type": "code",
      "source": [
        "a[4,:]"
      ],
      "metadata": {
        "colab": {
          "base_uri": "https://localhost:8080/"
        },
        "id": "XY_C-EWI7jm5",
        "outputId": "5c330b80-06dc-4aff-fd62-5139f7c4de8e"
      },
      "execution_count": 109,
      "outputs": [
        {
          "output_type": "execute_result",
          "data": {
            "text/plain": [
              "array([20, 21, 22, 23, 24])"
            ]
          },
          "metadata": {},
          "execution_count": 109
        }
      ]
    },
    {
      "cell_type": "code",
      "source": [
        "a[-1,:]"
      ],
      "metadata": {
        "colab": {
          "base_uri": "https://localhost:8080/"
        },
        "id": "o8z1FiA07tDo",
        "outputId": "4d37619b-d723-4c9b-f960-e4e6355dcc99"
      },
      "execution_count": 110,
      "outputs": [
        {
          "output_type": "execute_result",
          "data": {
            "text/plain": [
              "array([20, 21, 22, 23, 24])"
            ]
          },
          "metadata": {},
          "execution_count": 110
        }
      ]
    },
    {
      "cell_type": "code",
      "source": [
        "a = np.array([0, 1, 2, 3, 4])\n",
        "# create a slice containing two elements of a\n",
        "b = a[2:4]\n",
        "b"
      ],
      "metadata": {
        "colab": {
          "base_uri": "https://localhost:8080/"
        },
        "id": "SxB0YiT40mzZ",
        "outputId": "10db45dd-f4f2-4674-cc37-8c1f8d79ae77"
      },
      "execution_count": 93,
      "outputs": [
        {
          "output_type": "execute_result",
          "data": {
            "text/plain": [
              "array([2, 3])"
            ]
          },
          "metadata": {},
          "execution_count": 93
        }
      ]
    },
    {
      "cell_type": "code",
      "source": [
        "a"
      ],
      "metadata": {
        "colab": {
          "base_uri": "https://localhost:8080/"
        },
        "id": "Faa17lNE7CZt",
        "outputId": "062e1e69-3172-4c68-f443-68095dbab851"
      },
      "execution_count": 101,
      "outputs": [
        {
          "output_type": "execute_result",
          "data": {
            "text/plain": [
              "array([ 0, 99, 99, 30, 40, 99, 60, 70])"
            ]
          },
          "metadata": {},
          "execution_count": 101
        }
      ]
    },
    {
      "cell_type": "code",
      "source": [
        "b[0]=10"
      ],
      "metadata": {
        "id": "VwsF4d1j0qDK"
      },
      "execution_count": 111,
      "outputs": []
    },
    {
      "cell_type": "code",
      "source": [
        "# changing b changed a!\n",
        "a"
      ],
      "metadata": {
        "colab": {
          "base_uri": "https://localhost:8080/"
        },
        "id": "5SEWcVt40tC_",
        "outputId": "b217d82c-b4f2-4ac6-b7c9-dd9022cf1378"
      },
      "execution_count": 112,
      "outputs": [
        {
          "output_type": "execute_result",
          "data": {
            "text/plain": [
              "array([[ 0,  1,  2,  3,  4],\n",
              "       [ 5,  6,  7,  8,  9],\n",
              "       [10, 11, 12, 13, 14],\n",
              "       [15, 16, 17, 18, 19],\n",
              "       [20, 21, 22, 23, 24]])"
            ]
          },
          "metadata": {},
          "execution_count": 112
        }
      ]
    },
    {
      "cell_type": "markdown",
      "source": [
        "### **Fancy Indexing**"
      ],
      "metadata": {
        "id": "7sWnD2eJ1AMe"
      }
    },
    {
      "cell_type": "code",
      "source": [
        "a = np.arange(0, 80, 10)"
      ],
      "metadata": {
        "id": "tliUDJzs1IC3"
      },
      "execution_count": 113,
      "outputs": []
    },
    {
      "cell_type": "code",
      "source": [
        "# fancy indexing\n",
        "indices = [1, 2, -3]\n",
        "y = a[indices]\n",
        "print(y)"
      ],
      "metadata": {
        "colab": {
          "base_uri": "https://localhost:8080/"
        },
        "id": "Q8pYFGtQ0_vj",
        "outputId": "19f961a8-bd75-483b-eb92-baed5d036b22"
      },
      "execution_count": 114,
      "outputs": [
        {
          "output_type": "stream",
          "name": "stdout",
          "text": [
            "[10 20 50]\n"
          ]
        }
      ]
    },
    {
      "cell_type": "code",
      "source": [
        "# this also works with setting\n",
        "a[indices] = 99\n",
        "a"
      ],
      "metadata": {
        "colab": {
          "base_uri": "https://localhost:8080/"
        },
        "id": "26PQqyCQ6HjI",
        "outputId": "7943ea5f-cd35-43a8-9a94-e2313d251a5c"
      },
      "execution_count": 115,
      "outputs": [
        {
          "output_type": "execute_result",
          "data": {
            "text/plain": [
              "array([ 0, 99, 99, 30, 40, 99, 60, 70])"
            ]
          },
          "metadata": {},
          "execution_count": 115
        }
      ]
    },
    {
      "cell_type": "code",
      "source": [
        "# manual creation of masks\n",
        "mask = np.array(\n",
        "    [0, 1, 1, 0, 0, 1, 0, 0],\n",
        "    dtype=bool)"
      ],
      "metadata": {
        "id": "AaqRgoeV8TDZ"
      },
      "execution_count": 116,
      "outputs": []
    },
    {
      "cell_type": "code",
      "source": [
        "# fancy indexing\n",
        "y = a[mask]\n",
        "print(y)"
      ],
      "metadata": {
        "colab": {
          "base_uri": "https://localhost:8080/"
        },
        "id": "Aq6H_eLU8W-c",
        "outputId": "8dabf283-ae67-49c3-b44a-2bf14b2d8531"
      },
      "execution_count": 117,
      "outputs": [
        {
          "output_type": "stream",
          "name": "stdout",
          "text": [
            "[99 99 99]\n"
          ]
        }
      ]
    },
    {
      "cell_type": "markdown",
      "source": [
        "### **Fancy Indexing 2-D**"
      ],
      "metadata": {
        "id": "IuzVNxoT8dGA"
      }
    },
    {
      "cell_type": "code",
      "source": [
        "a = np.arange(36).reshape(6, 6)"
      ],
      "metadata": {
        "id": "PwxBGF-I8uho"
      },
      "execution_count": 138,
      "outputs": []
    },
    {
      "cell_type": "code",
      "source": [
        "a"
      ],
      "metadata": {
        "colab": {
          "base_uri": "https://localhost:8080/"
        },
        "id": "iEDchIT79AmT",
        "outputId": "e6ed9c43-29bc-4066-f412-9216132ddd92"
      },
      "execution_count": 139,
      "outputs": [
        {
          "output_type": "execute_result",
          "data": {
            "text/plain": [
              "array([[ 0,  1,  2,  3,  4,  5],\n",
              "       [ 6,  7,  8,  9, 10, 11],\n",
              "       [12, 13, 14, 15, 16, 17],\n",
              "       [18, 19, 20, 21, 22, 23],\n",
              "       [24, 25, 26, 27, 28, 29],\n",
              "       [30, 31, 32, 33, 34, 35]])"
            ]
          },
          "metadata": {},
          "execution_count": 139
        }
      ]
    },
    {
      "cell_type": "code",
      "source": [
        "a[[0, 1, 2, 3, 4],[1, 2, 3, 4, 5]]"
      ],
      "metadata": {
        "colab": {
          "base_uri": "https://localhost:8080/"
        },
        "id": "pFJ6kjTo8ice",
        "outputId": "79eb54bb-62c7-49ca-8860-7d6d00a6605a"
      },
      "execution_count": 140,
      "outputs": [
        {
          "output_type": "execute_result",
          "data": {
            "text/plain": [
              "array([ 1,  8, 15, 22, 29])"
            ]
          },
          "metadata": {},
          "execution_count": 140
        }
      ]
    },
    {
      "cell_type": "code",
      "source": [
        "a[3:, [0, 2, 5]]"
      ],
      "metadata": {
        "colab": {
          "base_uri": "https://localhost:8080/"
        },
        "id": "alosUM9891SX",
        "outputId": "b76f6416-c043-4615-f434-db239116fede"
      },
      "execution_count": 141,
      "outputs": [
        {
          "output_type": "execute_result",
          "data": {
            "text/plain": [
              "array([[18, 20, 23],\n",
              "       [24, 26, 29],\n",
              "       [30, 32, 35]])"
            ]
          },
          "metadata": {},
          "execution_count": 141
        }
      ]
    },
    {
      "cell_type": "code",
      "source": [
        "mask = np.array(\n",
        "    [1, 0, 1, 0, 0, 1],\n",
        "    dtype=bool)\n",
        "a[mask, 2]"
      ],
      "metadata": {
        "colab": {
          "base_uri": "https://localhost:8080/"
        },
        "id": "6mV4Z3y8935T",
        "outputId": "ae101a29-e3ba-488a-e515-b8657fc2be2f"
      },
      "execution_count": 142,
      "outputs": [
        {
          "output_type": "execute_result",
          "data": {
            "text/plain": [
              "array([ 2, 14, 32])"
            ]
          },
          "metadata": {},
          "execution_count": 142
        }
      ]
    },
    {
      "cell_type": "code",
      "source": [
        "a = np.arange(25).reshape(5, 5)"
      ],
      "metadata": {
        "id": "OV2Nd7no9-si"
      },
      "execution_count": 149,
      "outputs": []
    },
    {
      "cell_type": "code",
      "source": [
        "a"
      ],
      "metadata": {
        "colab": {
          "base_uri": "https://localhost:8080/"
        },
        "id": "rHcSfaaWAXu8",
        "outputId": "8fb98a6b-d126-4336-e327-c9ec8851bf33"
      },
      "execution_count": 150,
      "outputs": [
        {
          "output_type": "execute_result",
          "data": {
            "text/plain": [
              "array([[ 0,  1,  2,  3,  4],\n",
              "       [ 5,  6,  7,  8,  9],\n",
              "       [10, 11, 12, 13, 14],\n",
              "       [15, 16, 17, 18, 19],\n",
              "       [20, 21, 22, 23, 24]])"
            ]
          },
          "metadata": {},
          "execution_count": 150
        }
      ]
    },
    {
      "cell_type": "code",
      "source": [
        "a[[0],[2]]"
      ],
      "metadata": {
        "colab": {
          "base_uri": "https://localhost:8080/"
        },
        "id": "mN3CcwyNAOf8",
        "outputId": "b5fc3934-c2cd-4729-eb2b-512204eee60f"
      },
      "execution_count": 151,
      "outputs": [
        {
          "output_type": "execute_result",
          "data": {
            "text/plain": [
              "array([2])"
            ]
          },
          "metadata": {},
          "execution_count": 151
        }
      ]
    },
    {
      "cell_type": "code",
      "source": [
        "a[[4],[4]]"
      ],
      "metadata": {
        "colab": {
          "base_uri": "https://localhost:8080/"
        },
        "id": "tkVxuhVjAa6W",
        "outputId": "71c182de-d836-4122-f796-6013ab3f75df"
      },
      "execution_count": 153,
      "outputs": [
        {
          "output_type": "execute_result",
          "data": {
            "text/plain": [
              "array([24])"
            ]
          },
          "metadata": {},
          "execution_count": 153
        }
      ]
    },
    {
      "cell_type": "code",
      "source": [
        "0%3"
      ],
      "metadata": {
        "colab": {
          "base_uri": "https://localhost:8080/"
        },
        "id": "MYMIkRFzA1ZG",
        "outputId": "fc1cf029-1bed-49a6-d52a-fad6d33e78b8"
      },
      "execution_count": 154,
      "outputs": [
        {
          "output_type": "execute_result",
          "data": {
            "text/plain": [
              "0"
            ]
          },
          "metadata": {},
          "execution_count": 154
        }
      ]
    },
    {
      "cell_type": "code",
      "source": [
        "1%3"
      ],
      "metadata": {
        "colab": {
          "base_uri": "https://localhost:8080/"
        },
        "id": "5p685N0aA4rg",
        "outputId": "3371d3b3-700a-42f2-fc92-ad4b0ecd817a"
      },
      "execution_count": 156,
      "outputs": [
        {
          "output_type": "execute_result",
          "data": {
            "text/plain": [
              "1"
            ]
          },
          "metadata": {},
          "execution_count": 156
        }
      ]
    },
    {
      "cell_type": "code",
      "source": [
        "2%3"
      ],
      "metadata": {
        "colab": {
          "base_uri": "https://localhost:8080/"
        },
        "id": "XhU1lNwUBCXD",
        "outputId": "54bed9ea-7abd-49f5-c15d-35005cc428b1"
      },
      "execution_count": 157,
      "outputs": [
        {
          "output_type": "execute_result",
          "data": {
            "text/plain": [
              "2"
            ]
          },
          "metadata": {},
          "execution_count": 157
        }
      ]
    },
    {
      "cell_type": "code",
      "source": [
        "\n",
        "3%3"
      ],
      "metadata": {
        "colab": {
          "base_uri": "https://localhost:8080/"
        },
        "id": "PXUta-KgBHjY",
        "outputId": "80182212-2770-421a-eb69-f1eebeedb711"
      },
      "execution_count": 159,
      "outputs": [
        {
          "output_type": "execute_result",
          "data": {
            "text/plain": [
              "0"
            ]
          },
          "metadata": {},
          "execution_count": 159
        }
      ]
    },
    {
      "cell_type": "code",
      "source": [
        "a%3"
      ],
      "metadata": {
        "colab": {
          "base_uri": "https://localhost:8080/"
        },
        "id": "ZJMYgFC7Ay7Q",
        "outputId": "10b6a15d-fa6d-4b45-9bca-69171674846e"
      },
      "execution_count": 160,
      "outputs": [
        {
          "output_type": "execute_result",
          "data": {
            "text/plain": [
              "array([[0, 1, 2, 0, 1],\n",
              "       [2, 0, 1, 2, 0],\n",
              "       [1, 2, 0, 1, 2],\n",
              "       [0, 1, 2, 0, 1],\n",
              "       [2, 0, 1, 2, 0]])"
            ]
          },
          "metadata": {},
          "execution_count": 160
        }
      ]
    },
    {
      "cell_type": "code",
      "source": [
        "a%3==0"
      ],
      "metadata": {
        "colab": {
          "base_uri": "https://localhost:8080/"
        },
        "id": "liuK1G4_BT6B",
        "outputId": "9c379648-68f1-4b95-83a5-c3d39d65a9e5"
      },
      "execution_count": 162,
      "outputs": [
        {
          "output_type": "execute_result",
          "data": {
            "text/plain": [
              "array([[ True, False, False,  True, False],\n",
              "       [False,  True, False, False,  True],\n",
              "       [False, False,  True, False, False],\n",
              "       [ True, False, False,  True, False],\n",
              "       [False,  True, False, False,  True]])"
            ]
          },
          "metadata": {},
          "execution_count": 162
        }
      ]
    },
    {
      "cell_type": "code",
      "source": [
        "a"
      ],
      "metadata": {
        "colab": {
          "base_uri": "https://localhost:8080/"
        },
        "id": "lOx1mjAbBqmK",
        "outputId": "a4ecd42c-3060-490a-fb6d-92d32505ef27"
      },
      "execution_count": 163,
      "outputs": [
        {
          "output_type": "execute_result",
          "data": {
            "text/plain": [
              "array([[ 0,  1,  2,  3,  4],\n",
              "       [ 5,  6,  7,  8,  9],\n",
              "       [10, 11, 12, 13, 14],\n",
              "       [15, 16, 17, 18, 19],\n",
              "       [20, 21, 22, 23, 24]])"
            ]
          },
          "metadata": {},
          "execution_count": 163
        }
      ]
    },
    {
      "cell_type": "code",
      "source": [
        "a[a%3==0]"
      ],
      "metadata": {
        "colab": {
          "base_uri": "https://localhost:8080/"
        },
        "id": "GUqLU-N7BsE3",
        "outputId": "24bba51b-ca35-475b-bf06-abcd18ebbf4d"
      },
      "execution_count": 164,
      "outputs": [
        {
          "output_type": "execute_result",
          "data": {
            "text/plain": [
              "array([ 0,  3,  6,  9, 12, 15, 18, 21, 24])"
            ]
          },
          "metadata": {},
          "execution_count": 164
        }
      ]
    },
    {
      "cell_type": "code",
      "source": [
        "# Default to double precision\n",
        "a = np.array([0,1.0,2,3])\n",
        "a.dtype"
      ],
      "metadata": {
        "colab": {
          "base_uri": "https://localhost:8080/"
        },
        "id": "JTGE0Cbi-EW0",
        "outputId": "47880b83-6333-4295-a78a-bd7757973826"
      },
      "execution_count": 144,
      "outputs": [
        {
          "output_type": "execute_result",
          "data": {
            "text/plain": [
              "dtype('float64')"
            ]
          },
          "metadata": {},
          "execution_count": 144
        }
      ]
    },
    {
      "cell_type": "code",
      "source": [
        "a.nbytes"
      ],
      "metadata": {
        "colab": {
          "base_uri": "https://localhost:8080/"
        },
        "id": "AlKQCR96-Hk6",
        "outputId": "390f095f-d3d5-4453-a4a8-5475ac734129"
      },
      "execution_count": 145,
      "outputs": [
        {
          "output_type": "execute_result",
          "data": {
            "text/plain": [
              "32"
            ]
          },
          "metadata": {},
          "execution_count": 145
        }
      ]
    },
    {
      "cell_type": "code",
      "source": [
        "a = np.array([0,1.,2,3],\n",
        "             dtype='float32')\n",
        "a.dtype"
      ],
      "metadata": {
        "colab": {
          "base_uri": "https://localhost:8080/"
        },
        "id": "7EIXMMNq-Lex",
        "outputId": "5bd4e5f4-94ed-424f-e5ae-ad4108e21a57"
      },
      "execution_count": 146,
      "outputs": [
        {
          "output_type": "execute_result",
          "data": {
            "text/plain": [
              "dtype('float32')"
            ]
          },
          "metadata": {},
          "execution_count": 146
        }
      ]
    },
    {
      "cell_type": "code",
      "source": [
        "a.nbytes"
      ],
      "metadata": {
        "colab": {
          "base_uri": "https://localhost:8080/"
        },
        "id": "nCJQPGgZ-O_L",
        "outputId": "8796bdf1-7225-494d-9d3d-adc887a7b7cc"
      },
      "execution_count": 147,
      "outputs": [
        {
          "output_type": "execute_result",
          "data": {
            "text/plain": [
              "16"
            ]
          },
          "metadata": {},
          "execution_count": 147
        }
      ]
    },
    {
      "cell_type": "markdown",
      "source": [
        "### **Array Calculation Method**"
      ],
      "metadata": {
        "id": "o7HQWmwwCuvg"
      }
    },
    {
      "cell_type": "code",
      "source": [
        "# Methods act on data stored\n",
        "# in the array\n",
        "a = np.array([[1,2,3],[4,5,6]])"
      ],
      "metadata": {
        "id": "akqqk6gjCzeb"
      },
      "execution_count": 165,
      "outputs": []
    },
    {
      "cell_type": "code",
      "source": [
        "# .sum() defaults to adding up all the values in an array.\n",
        "a.sum()"
      ],
      "metadata": {
        "colab": {
          "base_uri": "https://localhost:8080/"
        },
        "id": "Q8MbCllvC4Xd",
        "outputId": "ab0e80fb-c580-424e-fad6-7adaaf5da069"
      },
      "execution_count": 167,
      "outputs": [
        {
          "output_type": "execute_result",
          "data": {
            "text/plain": [
              "21"
            ]
          },
          "metadata": {},
          "execution_count": 167
        }
      ]
    },
    {
      "cell_type": "code",
      "source": [
        "# supply the keyword axis to\n",
        "# sum along the 0th axis\n",
        "a.sum(axis=0)"
      ],
      "metadata": {
        "colab": {
          "base_uri": "https://localhost:8080/"
        },
        "id": "XRdS8IJZC_wT",
        "outputId": "13563778-2c20-4bc8-acb0-f86337d1c73e"
      },
      "execution_count": 169,
      "outputs": [
        {
          "output_type": "execute_result",
          "data": {
            "text/plain": [
              "array([5, 7, 9])"
            ]
          },
          "metadata": {},
          "execution_count": 169
        }
      ]
    },
    {
      "cell_type": "code",
      "source": [
        "# supply the keyword axis to\n",
        "# sum along the last axis\n",
        "a.sum(axis=-1)"
      ],
      "metadata": {
        "colab": {
          "base_uri": "https://localhost:8080/"
        },
        "id": "IvI-vYgmDHZV",
        "outputId": "d6389e5b-24ae-4760-c243-42af103138d5"
      },
      "execution_count": 170,
      "outputs": [
        {
          "output_type": "execute_result",
          "data": {
            "text/plain": [
              "array([ 6, 15])"
            ]
          },
          "metadata": {},
          "execution_count": 170
        }
      ]
    },
    {
      "cell_type": "markdown",
      "source": [
        "### **Other operationson arrays**"
      ],
      "metadata": {
        "id": "6Qv1pauqDPja"
      }
    },
    {
      "cell_type": "code",
      "source": [
        "# Functions work on data\n",
        "# passed to it\n",
        "a = np.array([[1,2,3],[4,5,6]])"
      ],
      "metadata": {
        "id": "okplnwsNDOmO"
      },
      "execution_count": 171,
      "outputs": []
    },
    {
      "cell_type": "code",
      "source": [
        "# sum() defaults to adding\n",
        "# up all values in an array.\n",
        "np.sum(a)"
      ],
      "metadata": {
        "colab": {
          "base_uri": "https://localhost:8080/"
        },
        "id": "gs3JEW__DZcG",
        "outputId": "b22de5bf-b0aa-4b97-ddde-4e10abba1dec"
      },
      "execution_count": 172,
      "outputs": [
        {
          "output_type": "execute_result",
          "data": {
            "text/plain": [
              "21"
            ]
          },
          "metadata": {},
          "execution_count": 172
        }
      ]
    },
    {
      "cell_type": "code",
      "source": [
        "# supply an axis argument to\n",
        "# sum along a specific axis\n",
        "np.sum(a, axis=0)"
      ],
      "metadata": {
        "colab": {
          "base_uri": "https://localhost:8080/"
        },
        "id": "3DmXv908DdDp",
        "outputId": "770caa65-3799-4c95-cb81-3b1284fa610b"
      },
      "execution_count": 173,
      "outputs": [
        {
          "output_type": "execute_result",
          "data": {
            "text/plain": [
              "array([5, 7, 9])"
            ]
          },
          "metadata": {},
          "execution_count": 173
        }
      ]
    },
    {
      "cell_type": "markdown",
      "source": [
        "### **Min/Max**"
      ],
      "metadata": {
        "id": "jo2bcKyZDlLp"
      }
    },
    {
      "cell_type": "code",
      "source": [
        "a = np.array([[2, 3], [0, 1]])"
      ],
      "metadata": {
        "id": "Sa42UuZJDqTB"
      },
      "execution_count": 174,
      "outputs": []
    },
    {
      "cell_type": "code",
      "source": [
        "# Prefer NumPy functions to\n",
        "# builtins when working with\n",
        "# arrays\n",
        "np.min(a)"
      ],
      "metadata": {
        "colab": {
          "base_uri": "https://localhost:8080/"
        },
        "id": "mlL6h2y5DvU0",
        "outputId": "c3d2dcc0-ea5f-47d0-ce55-4e87fd1e8cd9"
      },
      "execution_count": 175,
      "outputs": [
        {
          "output_type": "execute_result",
          "data": {
            "text/plain": [
              "0"
            ]
          },
          "metadata": {},
          "execution_count": 175
        }
      ]
    },
    {
      "cell_type": "code",
      "source": [
        "# Most NumPy reducers can be used\n",
        "# as methods as well as functions\n",
        "a.min()"
      ],
      "metadata": {
        "colab": {
          "base_uri": "https://localhost:8080/"
        },
        "id": "eriPwNbcDzwp",
        "outputId": "4af1d241-f140-40c2-ce5d-80ac7f069665"
      },
      "execution_count": 176,
      "outputs": [
        {
          "output_type": "execute_result",
          "data": {
            "text/plain": [
              "0"
            ]
          },
          "metadata": {},
          "execution_count": 176
        }
      ]
    },
    {
      "cell_type": "code",
      "source": [
        "# Use the axis keyword to find\n",
        "# max values for one dimension\n",
        "a.max(axis=0)"
      ],
      "metadata": {
        "colab": {
          "base_uri": "https://localhost:8080/"
        },
        "id": "hT6wRMqWEDRq",
        "outputId": "9591b975-36c3-4828-a5f3-fca4010fdff2"
      },
      "execution_count": 179,
      "outputs": [
        {
          "output_type": "execute_result",
          "data": {
            "text/plain": [
              "array([2, 3])"
            ]
          },
          "metadata": {},
          "execution_count": 179
        }
      ]
    },
    {
      "cell_type": "code",
      "source": [
        "# as a function\n",
        "np.max(a, axis=1)"
      ],
      "metadata": {
        "colab": {
          "base_uri": "https://localhost:8080/"
        },
        "id": "TFwdLei4EHL_",
        "outputId": "c977368d-132b-4e78-936d-e04dd585b550"
      },
      "execution_count": 180,
      "outputs": [
        {
          "output_type": "execute_result",
          "data": {
            "text/plain": [
              "array([3, 1])"
            ]
          },
          "metadata": {},
          "execution_count": 180
        }
      ]
    },
    {
      "cell_type": "code",
      "source": [
        "# Many tasks (like optimization)\n",
        "# are interested in the location\n",
        "# of a min/max, not the value\n",
        "a.argmax()"
      ],
      "metadata": {
        "colab": {
          "base_uri": "https://localhost:8080/"
        },
        "id": "ZdGXry91D3S0",
        "outputId": "19c17418-3916-4312-bccd-907f7bf3ac20"
      },
      "execution_count": 177,
      "outputs": [
        {
          "output_type": "execute_result",
          "data": {
            "text/plain": [
              "1"
            ]
          },
          "metadata": {},
          "execution_count": 177
        }
      ]
    },
    {
      "cell_type": "code",
      "source": [
        "# arg methods return the\n",
        "# location in 1D, on a raveled\n",
        "# index of the original array\n",
        "np.argmin(a)"
      ],
      "metadata": {
        "colab": {
          "base_uri": "https://localhost:8080/"
        },
        "id": "GQl7CUwUD7Bk",
        "outputId": "d4480fc1-a759-43a1-fff2-815ec771077b"
      },
      "execution_count": 178,
      "outputs": [
        {
          "output_type": "execute_result",
          "data": {
            "text/plain": [
              "2"
            ]
          },
          "metadata": {},
          "execution_count": 178
        }
      ]
    },
    {
      "cell_type": "code",
      "source": [
        "# NumPy includes a function\n",
        "# to un-flatten 1D locations\n",
        "np.unravel_index(a.argmax(), a.shape)"
      ],
      "metadata": {
        "colab": {
          "base_uri": "https://localhost:8080/"
        },
        "id": "OSrg2SobEayP",
        "outputId": "1343698d-91bc-4c0f-ca64-82f68d2995a2"
      },
      "execution_count": 181,
      "outputs": [
        {
          "output_type": "execute_result",
          "data": {
            "text/plain": [
              "(0, 1)"
            ]
          },
          "metadata": {},
          "execution_count": 181
        }
      ]
    },
    {
      "cell_type": "markdown",
      "source": [
        "### **Statistics Array Methods**"
      ],
      "metadata": {
        "id": "RAvsTywJExvC"
      }
    },
    {
      "cell_type": "markdown",
      "source": [
        "### **Mean**"
      ],
      "metadata": {
        "id": "QpeRAD36E2o-"
      }
    },
    {
      "cell_type": "code",
      "source": [
        "a = np.array([[1,2,3],[4,5,6]])\n",
        "# mean value of each column\n",
        "a.mean(axis=0)"
      ],
      "metadata": {
        "colab": {
          "base_uri": "https://localhost:8080/"
        },
        "id": "9wXHvHLQE5MF",
        "outputId": "4091ca45-685a-401a-a0ca-2886c0380e20"
      },
      "execution_count": 207,
      "outputs": [
        {
          "output_type": "execute_result",
          "data": {
            "text/plain": [
              "array([2.5, 3.5, 4.5])"
            ]
          },
          "metadata": {},
          "execution_count": 207
        }
      ]
    },
    {
      "cell_type": "code",
      "source": [
        "np.mean(a, axis=0)"
      ],
      "metadata": {
        "colab": {
          "base_uri": "https://localhost:8080/"
        },
        "id": "SpkYbYV2FBCQ",
        "outputId": "a178bf4a-fabd-472d-e06e-237f58120181"
      },
      "execution_count": 208,
      "outputs": [
        {
          "output_type": "execute_result",
          "data": {
            "text/plain": [
              "array([2.5, 3.5, 4.5])"
            ]
          },
          "metadata": {},
          "execution_count": 208
        }
      ]
    },
    {
      "cell_type": "markdown",
      "source": [
        "### **Standard Deviation/Variance**"
      ],
      "metadata": {
        "id": "9Q4b8YlRFCbC"
      }
    },
    {
      "cell_type": "code",
      "source": [
        "# Standard Deviation\n",
        "a.std(axis=0)"
      ],
      "metadata": {
        "colab": {
          "base_uri": "https://localhost:8080/"
        },
        "id": "8x0WMUqPFLLD",
        "outputId": "6d6fca54-3739-44cd-f199-c0ce6fb80c23"
      },
      "execution_count": 209,
      "outputs": [
        {
          "output_type": "execute_result",
          "data": {
            "text/plain": [
              "array([1.5, 1.5, 1.5])"
            ]
          },
          "metadata": {},
          "execution_count": 209
        }
      ]
    },
    {
      "cell_type": "code",
      "source": [
        "# For sample, set ddof=1\n",
        "a.std(axis=0, ddof=1)"
      ],
      "metadata": {
        "colab": {
          "base_uri": "https://localhost:8080/"
        },
        "id": "VVtm8hTrFMe5",
        "outputId": "d63064df-c8b0-4087-b221-c474be4acd0e"
      },
      "execution_count": 210,
      "outputs": [
        {
          "output_type": "execute_result",
          "data": {
            "text/plain": [
              "array([2.12132034, 2.12132034, 2.12132034])"
            ]
          },
          "metadata": {},
          "execution_count": 210
        }
      ]
    },
    {
      "cell_type": "code",
      "source": [
        "# variance\n",
        "a.var(axis=0)"
      ],
      "metadata": {
        "colab": {
          "base_uri": "https://localhost:8080/"
        },
        "id": "S_8fK-4rFUwn",
        "outputId": "92a51275-9acf-4aaa-9f70-2353e0eef871"
      },
      "execution_count": 211,
      "outputs": [
        {
          "output_type": "execute_result",
          "data": {
            "text/plain": [
              "array([2.25, 2.25, 2.25])"
            ]
          },
          "metadata": {},
          "execution_count": 211
        }
      ]
    },
    {
      "cell_type": "code",
      "source": [
        "np.var(a, axis=0)"
      ],
      "metadata": {
        "colab": {
          "base_uri": "https://localhost:8080/"
        },
        "id": "aPcrfCFSFYpN",
        "outputId": "b490e6ff-fe7f-456d-ad9a-055800297fc1"
      },
      "execution_count": 212,
      "outputs": [
        {
          "output_type": "execute_result",
          "data": {
            "text/plain": [
              "array([2.25, 2.25, 2.25])"
            ]
          },
          "metadata": {},
          "execution_count": 212
        }
      ]
    },
    {
      "cell_type": "code",
      "source": [
        "a = np.arange(-15, 15).reshape(5, 6) ** 2"
      ],
      "metadata": {
        "id": "5CBA2CqEFek2"
      },
      "execution_count": 213,
      "outputs": []
    },
    {
      "cell_type": "code",
      "source": [
        "a"
      ],
      "metadata": {
        "colab": {
          "base_uri": "https://localhost:8080/"
        },
        "id": "BiXVvvDyFgXj",
        "outputId": "de68bfa1-477a-4526-d60b-f58db9c906b4"
      },
      "execution_count": 214,
      "outputs": [
        {
          "output_type": "execute_result",
          "data": {
            "text/plain": [
              "array([[225, 196, 169, 144, 121, 100],\n",
              "       [ 81,  64,  49,  36,  25,  16],\n",
              "       [  9,   4,   1,   0,   1,   4],\n",
              "       [  9,  16,  25,  36,  49,  64],\n",
              "       [ 81, 100, 121, 144, 169, 196]])"
            ]
          },
          "metadata": {},
          "execution_count": 214
        }
      ]
    },
    {
      "cell_type": "markdown",
      "source": [
        "### **Array Broadcasting**"
      ],
      "metadata": {
        "id": "DnNTLjH7Fj7Q"
      }
    },
    {
      "cell_type": "markdown",
      "source": [
        "Rule 1: Prepend ones to smaller array's shape"
      ],
      "metadata": {
        "id": "AMrUFVhrF0jG"
      }
    },
    {
      "cell_type": "code",
      "source": [
        "import numpy as np\n",
        "a = np.ones((3, 5)) # a.shape == (3, 5)\n",
        "b = np.ones((5,)) # b.shape == (5,)\n",
        "b.reshape(1, 5) # result is a (1,5)-shaped array.\n",
        "b[np.newaxis, :] # equivalent, more concise."
      ],
      "metadata": {
        "colab": {
          "base_uri": "https://localhost:8080/"
        },
        "id": "mUqH619TFnv7",
        "outputId": "94b709cb-9b68-475b-e1e6-4fd9ceb1f041"
      },
      "execution_count": 215,
      "outputs": [
        {
          "output_type": "execute_result",
          "data": {
            "text/plain": [
              "array([[1., 1., 1., 1., 1.]])"
            ]
          },
          "metadata": {},
          "execution_count": 215
        }
      ]
    },
    {
      "cell_type": "markdown",
      "source": [
        "Rule 2: Dimension of size 1 are repeated without copying"
      ],
      "metadata": {
        "id": "XFxX7X4HGEJB"
      }
    },
    {
      "cell_type": "code",
      "source": [
        "c = a + b # c.shape == (3, 5)\n",
        "# is logically equivalent to...\n",
        "tmp_b = b.reshape(1, 5)\n",
        "tmp_b_repeat = tmp_b.repeat(3, axis=0)\n",
        "c = a + tmp_b_repeat\n",
        "# But broadcasting makes no copies of \"b\"s data!"
      ],
      "metadata": {
        "id": "poIZjstYGN__"
      },
      "execution_count": 216,
      "outputs": []
    },
    {
      "cell_type": "markdown",
      "source": [
        "![array broadcasting.png](data:image/png;base64,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)"
      ],
      "metadata": {
        "id": "2IsJQ6R9Gcrf"
      }
    },
    {
      "cell_type": "code",
      "source": [
        "a = np.arange(12).reshape(4, 3)"
      ],
      "metadata": {
        "id": "HXBhUDgPH8V5"
      },
      "execution_count": 248,
      "outputs": []
    },
    {
      "cell_type": "code",
      "source": [
        "a"
      ],
      "metadata": {
        "colab": {
          "base_uri": "https://localhost:8080/"
        },
        "id": "YF37rgsrINGa",
        "outputId": "3ffc4bd7-c458-42d7-ef88-1e4feaffe6d4"
      },
      "execution_count": 249,
      "outputs": [
        {
          "output_type": "execute_result",
          "data": {
            "text/plain": [
              "array([[ 0,  1,  2],\n",
              "       [ 3,  4,  5],\n",
              "       [ 6,  7,  8],\n",
              "       [ 9, 10, 11]])"
            ]
          },
          "metadata": {},
          "execution_count": 249
        }
      ]
    },
    {
      "cell_type": "code",
      "source": [
        "a[0]=0"
      ],
      "metadata": {
        "id": "YjcSh7sYIPd7"
      },
      "execution_count": 250,
      "outputs": []
    },
    {
      "cell_type": "code",
      "source": [
        "a[1]=10"
      ],
      "metadata": {
        "id": "8LiQjAFPIZ2c"
      },
      "execution_count": 251,
      "outputs": []
    },
    {
      "cell_type": "code",
      "source": [
        "a[2]=20"
      ],
      "metadata": {
        "id": "c5-2yEw5InM2"
      },
      "execution_count": 252,
      "outputs": []
    },
    {
      "cell_type": "code",
      "source": [
        "a[3]=30"
      ],
      "metadata": {
        "id": "HqmGh0evIpxf"
      },
      "execution_count": 253,
      "outputs": []
    },
    {
      "cell_type": "code",
      "source": [
        "a"
      ],
      "metadata": {
        "colab": {
          "base_uri": "https://localhost:8080/"
        },
        "id": "r4T9hA0TItaK",
        "outputId": "071cf097-90f8-420d-8152-ac06d2d18996"
      },
      "execution_count": 254,
      "outputs": [
        {
          "output_type": "execute_result",
          "data": {
            "text/plain": [
              "array([[ 0,  0,  0],\n",
              "       [10, 10, 10],\n",
              "       [20, 20, 20],\n",
              "       [30, 30, 30]])"
            ]
          },
          "metadata": {},
          "execution_count": 254
        }
      ]
    },
    {
      "cell_type": "code",
      "source": [
        "b = np.arange(12).reshape(4, 3)"
      ],
      "metadata": {
        "id": "b3_hSxKxKQs9"
      },
      "execution_count": 255,
      "outputs": []
    },
    {
      "cell_type": "code",
      "source": [
        "b[1]=b[0]"
      ],
      "metadata": {
        "id": "b3zAQrwbKn3w"
      },
      "execution_count": 257,
      "outputs": []
    },
    {
      "cell_type": "code",
      "source": [
        "b[2]=b[0]"
      ],
      "metadata": {
        "id": "gXG2oktpKsab"
      },
      "execution_count": 258,
      "outputs": []
    },
    {
      "cell_type": "code",
      "source": [
        "b[3]=b[0]"
      ],
      "metadata": {
        "id": "5Ce_QxPdKtO0"
      },
      "execution_count": 259,
      "outputs": []
    },
    {
      "cell_type": "code",
      "source": [
        "b"
      ],
      "metadata": {
        "colab": {
          "base_uri": "https://localhost:8080/"
        },
        "id": "oVpheHf-Kt41",
        "outputId": "b3677562-ee25-4605-e661-e81c2a42c2ae"
      },
      "execution_count": 261,
      "outputs": [
        {
          "output_type": "execute_result",
          "data": {
            "text/plain": [
              "array([[0, 1, 2],\n",
              "       [0, 1, 2],\n",
              "       [0, 1, 2],\n",
              "       [0, 1, 2]])"
            ]
          },
          "metadata": {},
          "execution_count": 261
        }
      ]
    },
    {
      "cell_type": "code",
      "source": [
        "a+b"
      ],
      "metadata": {
        "colab": {
          "base_uri": "https://localhost:8080/"
        },
        "id": "ALy4txHWK5g5",
        "outputId": "2cad2177-370e-447f-ca10-605ec1567e8b"
      },
      "execution_count": 262,
      "outputs": [
        {
          "output_type": "execute_result",
          "data": {
            "text/plain": [
              "array([[ 0,  1,  2],\n",
              "       [10, 11, 12],\n",
              "       [20, 21, 22],\n",
              "       [30, 31, 32]])"
            ]
          },
          "metadata": {},
          "execution_count": 262
        }
      ]
    },
    {
      "cell_type": "markdown",
      "source": [
        "### **Application: Distance from center**"
      ],
      "metadata": {
        "id": "O35wFgUCLOOL"
      }
    },
    {
      "cell_type": "code",
      "source": [
        "import matplotlib.pyplot as plt\n",
        "a = np.linspace(0, 1, 15) - 0.5\n",
        "b = a[:, np.newaxis] # b.shape == (15, 1)\n",
        "dist2 = a**2 + b**2 # broadcasting sum.\n",
        "dist = np.sqrt(dist2)\n",
        "plt.imshow(dist)\n",
        "plt.colorbar()"
      ],
      "metadata": {
        "colab": {
          "base_uri": "https://localhost:8080/",
          "height": 284
        },
        "id": "cwrygovKLPR2",
        "outputId": "a5148bd6-442c-4c31-d988-3acd94e751ef"
      },
      "execution_count": 264,
      "outputs": [
        {
          "output_type": "execute_result",
          "data": {
            "text/plain": [
              "<matplotlib.colorbar.Colorbar at 0x7f1487cb5150>"
            ]
          },
          "metadata": {},
          "execution_count": 264
        },
        {
          "output_type": "display_data",
          "data": {
            "image/png": "[encoded data removed]",
            "text/plain": [
              "<Figure size 432x288 with 2 Axes>"
            ]
          },
          "metadata": {
            "needs_background": "light"
          }
        }
      ]
    },
    {
      "cell_type": "markdown",
      "source": [
        "### **Universal function methods**"
      ],
      "metadata": {
        "id": "Yv1KaqzzLeEn"
      }
    },
    {
      "cell_type": "markdown",
      "source": [
        "### **op.reduce()**\n",
        "op.reduce(a) applies op to all\n",
        "the elements in a 1-D array a\n",
        "reducing it to a single value.       \n",
        "**For example:**"
      ],
      "metadata": {
        "id": "Y8vBIL94L-69"
      }
    },
    {
      "cell_type": "markdown",
      "source": [
        "![array broadcasting.png](data:image/png;base64,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)"
      ],
      "metadata": {
        "id": "WKPMjSsdMQw1"
      }
    },
    {
      "cell_type": "code",
      "source": [
        "a = np.array([1,2,3,4])\n",
        "np.add.reduce(a)"
      ],
      "metadata": {
        "colab": {
          "base_uri": "https://localhost:8080/"
        },
        "id": "c3lLT3fkL-JC",
        "outputId": "0ccfa7b2-07a4-48ad-d614-3aae37039f36"
      },
      "execution_count": 266,
      "outputs": [
        {
          "output_type": "execute_result",
          "data": {
            "text/plain": [
              "10"
            ]
          },
          "metadata": {},
          "execution_count": 266
        }
      ]
    },
    {
      "cell_type": "code",
      "source": [
        "a = np.array(['ab','cd','ef'],dtype='object')\n",
        "np.add.reduce(a)"
      ],
      "metadata": {
        "colab": {
          "base_uri": "https://localhost:8080/",
          "height": 35
        },
        "id": "csKkccbTM8gM",
        "outputId": "99e224d1-f304-43b2-b691-214c799563f7"
      },
      "execution_count": 267,
      "outputs": [
        {
          "output_type": "execute_result",
          "data": {
            "application/vnd.google.colaboratory.intrinsic+json": {
              "type": "string"
            },
            "text/plain": [
              "'abcdef'"
            ]
          },
          "metadata": {},
          "execution_count": 267
        }
      ]
    },
    {
      "cell_type": "markdown",
      "source": [
        "**Logical Example**"
      ],
      "metadata": {
        "id": "i3B0xXcyNNOW"
      }
    },
    {
      "cell_type": "code",
      "source": [
        "a = np.array([1,1,0,1])"
      ],
      "metadata": {
        "id": "xMqfLIxmNMLD"
      },
      "execution_count": 270,
      "outputs": []
    },
    {
      "cell_type": "code",
      "source": [
        "np.logical_and.reduce(a)"
      ],
      "metadata": {
        "colab": {
          "base_uri": "https://localhost:8080/"
        },
        "id": "M339oIcSNCt6",
        "outputId": "32901d36-5946-4440-e5cb-f5cc7532133f"
      },
      "execution_count": 271,
      "outputs": [
        {
          "output_type": "execute_result",
          "data": {
            "text/plain": [
              "False"
            ]
          },
          "metadata": {},
          "execution_count": 271
        }
      ]
    },
    {
      "cell_type": "code",
      "source": [
        "np.logical_or.reduce(a)"
      ],
      "metadata": {
        "colab": {
          "base_uri": "https://localhost:8080/"
        },
        "id": "PtyhOZ3XNGb8",
        "outputId": "2c0e085a-59e1-4e17-9efd-d3c5ec8fd98c"
      },
      "execution_count": 272,
      "outputs": [
        {
          "output_type": "execute_result",
          "data": {
            "text/plain": [
              "True"
            ]
          },
          "metadata": {},
          "execution_count": 272
        }
      ]
    },
    {
      "cell_type": "markdown",
      "source": [
        "### **op.accumulate()**"
      ],
      "metadata": {
        "id": "ynq50bfNNYGs"
      }
    },
    {
      "cell_type": "markdown",
      "source": [
        "op.accumulate(a) creates a\n",
        "new array containing the intermediate\n",
        "results of the reduce operation at\n",
        "each element in a."
      ],
      "metadata": {
        "id": "MS1fxK_DNYum"
      }
    },
    {
      "cell_type": "markdown",
      "source": [
        "![array broadcasting.png](data:image/png;base64,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)"
      ],
      "metadata": {
        "id": "Q8brLQj0Nnv9"
      }
    },
    {
      "cell_type": "code",
      "source": [
        "a = np.array([1,2,3,4])\n",
        "np.add.accumulate(a)"
      ],
      "metadata": {
        "colab": {
          "base_uri": "https://localhost:8080/"
        },
        "id": "kI-A83-qNnUW",
        "outputId": "f2a76792-91e5-4052-e80a-860a56e8d357"
      },
      "execution_count": 273,
      "outputs": [
        {
          "output_type": "execute_result",
          "data": {
            "text/plain": [
              "array([ 1,  3,  6, 10])"
            ]
          },
          "metadata": {},
          "execution_count": 273
        }
      ]
    },
    {
      "cell_type": "code",
      "source": [
        "a = np.array(['ab','cd','ef'],dtype='object')\n",
        "np.add.accumulate(a)"
      ],
      "metadata": {
        "colab": {
          "base_uri": "https://localhost:8080/"
        },
        "id": "DDAaIr_9N7H6",
        "outputId": "3eca1d79-09df-4901-acbb-0b672cd9f195"
      },
      "execution_count": 274,
      "outputs": [
        {
          "output_type": "execute_result",
          "data": {
            "text/plain": [
              "array(['ab', 'abcd', 'abcdef'], dtype=object)"
            ]
          },
          "metadata": {},
          "execution_count": 274
        }
      ]
    },
    {
      "cell_type": "code",
      "source": [
        "a = np.array([1,1,0])"
      ],
      "metadata": {
        "id": "-2hDc4bIOD0g"
      },
      "execution_count": 275,
      "outputs": []
    },
    {
      "cell_type": "code",
      "source": [
        "np.logical_and.accumulate(a)"
      ],
      "metadata": {
        "colab": {
          "base_uri": "https://localhost:8080/"
        },
        "id": "Pgi23DG3OGwO",
        "outputId": "62010f3f-09e9-4570-97dc-91c8c31759c6"
      },
      "execution_count": 276,
      "outputs": [
        {
          "output_type": "execute_result",
          "data": {
            "text/plain": [
              "array([ True,  True, False])"
            ]
          },
          "metadata": {},
          "execution_count": 276
        }
      ]
    },
    {
      "cell_type": "code",
      "source": [
        "np.logical_or.accumulate(a)"
      ],
      "metadata": {
        "colab": {
          "base_uri": "https://localhost:8080/"
        },
        "id": "of--KTWnOJ70",
        "outputId": "44c305bd-509d-4345-fcc8-1c3330717802"
      },
      "execution_count": 277,
      "outputs": [
        {
          "output_type": "execute_result",
          "data": {
            "text/plain": [
              "array([ True,  True,  True])"
            ]
          },
          "metadata": {},
          "execution_count": 277
        }
      ]
    },
    {
      "cell_type": "markdown",
      "source": [
        "### **Transpose**"
      ],
      "metadata": {
        "id": "-5n-KUM_OUzU"
      }
    },
    {
      "cell_type": "code",
      "source": [
        "a = np.array([[0,1,2],[3,4,5]])\n",
        "a.shape"
      ],
      "metadata": {
        "colab": {
          "base_uri": "https://localhost:8080/"
        },
        "id": "p_vAnP1COZXy",
        "outputId": "bea31e15-35a7-4816-f429-82a22d809e24"
      },
      "execution_count": 278,
      "outputs": [
        {
          "output_type": "execute_result",
          "data": {
            "text/plain": [
              "(2, 3)"
            ]
          },
          "metadata": {},
          "execution_count": 278
        }
      ]
    },
    {
      "cell_type": "code",
      "source": [
        "a"
      ],
      "metadata": {
        "colab": {
          "base_uri": "https://localhost:8080/"
        },
        "id": "fRhtIdYXOkGz",
        "outputId": "47f8ede0-6989-47a3-d40e-dede0613e828"
      },
      "execution_count": 280,
      "outputs": [
        {
          "output_type": "execute_result",
          "data": {
            "text/plain": [
              "array([[0, 1, 2],\n",
              "       [3, 4, 5]])"
            ]
          },
          "metadata": {},
          "execution_count": 280
        }
      ]
    },
    {
      "cell_type": "code",
      "source": [
        "# Transpose swaps the order of axes.\n",
        "a.T"
      ],
      "metadata": {
        "colab": {
          "base_uri": "https://localhost:8080/"
        },
        "id": "ybtsUYX4Od8o",
        "outputId": "52c166aa-d195-40f5-85d3-a2574c06bccb"
      },
      "execution_count": 281,
      "outputs": [
        {
          "output_type": "execute_result",
          "data": {
            "text/plain": [
              "array([[0, 3],\n",
              "       [1, 4],\n",
              "       [2, 5]])"
            ]
          },
          "metadata": {},
          "execution_count": 281
        }
      ]
    },
    {
      "cell_type": "code",
      "source": [
        "a.T.shape"
      ],
      "metadata": {
        "colab": {
          "base_uri": "https://localhost:8080/"
        },
        "id": "WDCgHl4fOqNl",
        "outputId": "65b24c2f-b101-405a-f632-774dd984b368"
      },
      "execution_count": 282,
      "outputs": [
        {
          "output_type": "execute_result",
          "data": {
            "text/plain": [
              "(3, 2)"
            ]
          },
          "metadata": {},
          "execution_count": 282
        }
      ]
    },
    {
      "cell_type": "code",
      "source": [
        "# Transpose does not move values around in memory.\n",
        "# It only changes the order of \"strides\" in the array\n",
        "a.strides"
      ],
      "metadata": {
        "colab": {
          "base_uri": "https://localhost:8080/"
        },
        "id": "Hzan01CqOqBs",
        "outputId": "5a0775b4-cc53-4ca4-f43e-9dd4e747791f"
      },
      "execution_count": 285,
      "outputs": [
        {
          "output_type": "execute_result",
          "data": {
            "text/plain": [
              "(24, 8)"
            ]
          },
          "metadata": {},
          "execution_count": 285
        }
      ]
    },
    {
      "cell_type": "code",
      "source": [
        "a.T.strides"
      ],
      "metadata": {
        "colab": {
          "base_uri": "https://localhost:8080/"
        },
        "id": "Yn8SG4FYO-oy",
        "outputId": "6aa0d489-6e15-496a-aceb-7002f4a2f1ae"
      },
      "execution_count": 286,
      "outputs": [
        {
          "output_type": "execute_result",
          "data": {
            "text/plain": [
              "(8, 24)"
            ]
          },
          "metadata": {},
          "execution_count": 286
        }
      ]
    },
    {
      "cell_type": "markdown",
      "source": [
        "### **Reshaping Arrays**"
      ],
      "metadata": {
        "id": "I_AoU3M9PC7F"
      }
    },
    {
      "cell_type": "code",
      "source": [
        "a = np.array([[0,1,2],[3,4,5]])"
      ],
      "metadata": {
        "id": "LviKA9pCPCnS"
      },
      "execution_count": 287,
      "outputs": []
    },
    {
      "cell_type": "code",
      "source": [
        "# Return a new array with a different shape (a view where possible)\n",
        "a.reshape(3,2)"
      ],
      "metadata": {
        "colab": {
          "base_uri": "https://localhost:8080/"
        },
        "id": "JJP_mBumPLxU",
        "outputId": "b35e867e-12fe-4ce3-cfbc-724fc6907a94"
      },
      "execution_count": 288,
      "outputs": [
        {
          "output_type": "execute_result",
          "data": {
            "text/plain": [
              "array([[0, 1],\n",
              "       [2, 3],\n",
              "       [4, 5]])"
            ]
          },
          "metadata": {},
          "execution_count": 288
        }
      ]
    },
    {
      "cell_type": "code",
      "source": [
        "# Reshape cannot change the number of elements in an array\n",
        "a.reshape(4,2)"
      ],
      "metadata": {
        "colab": {
          "base_uri": "https://localhost:8080/",
          "height": 183
        },
        "id": "1nfioUhJPTFt",
        "outputId": "e9eb6a5e-1b86-4f30-b459-238c5fe813e5"
      },
      "execution_count": 289,
      "outputs": [
        {
          "output_type": "error",
          "ename": "ValueError",
          "evalue": "ignored",
          "traceback": [
            "\u001b[0;31m---------------------------------------------------------------------------\u001b[0m",
            "\u001b[0;31mValueError\u001b[0m                                Traceback (most recent call last)",
            "\u001b[0;32m<ipython-input-289-58e2de4d26e5>\u001b[0m in \u001b[0;36m<module>\u001b[0;34m()\u001b[0m\n\u001b[1;32m      1\u001b[0m \u001b[0;31m# Reshape cannot change the number of elements in an array\u001b[0m\u001b[0;34m\u001b[0m\u001b[0;34m\u001b[0m\u001b[0;34m\u001b[0m\u001b[0m\n\u001b[0;32m----> 2\u001b[0;31m \u001b[0ma\u001b[0m\u001b[0;34m.\u001b[0m\u001b[0mreshape\u001b[0m\u001b[0;34m(\u001b[0m\u001b[0;36m4\u001b[0m\u001b[0;34m,\u001b[0m\u001b[0;36m2\u001b[0m\u001b[0;34m)\u001b[0m\u001b[0;34m\u001b[0m\u001b[0;34m\u001b[0m\u001b[0m\n\u001b[0m",
            "\u001b[0;31mValueError\u001b[0m: cannot reshape array of size 6 into shape (4,2)"
          ]
        }
      ]
    },
    {
      "cell_type": "code",
      "source": [
        "a = np.arange(6)\n",
        "a"
      ],
      "metadata": {
        "colab": {
          "base_uri": "https://localhost:8080/"
        },
        "id": "E3jrqOgmPdik",
        "outputId": "d7b28839-c348-409d-e462-fcbcbc68ce46"
      },
      "execution_count": 290,
      "outputs": [
        {
          "output_type": "execute_result",
          "data": {
            "text/plain": [
              "array([0, 1, 2, 3, 4, 5])"
            ]
          },
          "metadata": {},
          "execution_count": 290
        }
      ]
    },
    {
      "cell_type": "code",
      "source": [
        "a.shape"
      ],
      "metadata": {
        "colab": {
          "base_uri": "https://localhost:8080/"
        },
        "id": "5VE8SfK3PhoD",
        "outputId": "fea76fa2-7551-4154-db9e-0734ae8fc068"
      },
      "execution_count": 291,
      "outputs": [
        {
          "output_type": "execute_result",
          "data": {
            "text/plain": [
              "(6,)"
            ]
          },
          "metadata": {},
          "execution_count": 291
        }
      ]
    },
    {
      "cell_type": "code",
      "source": [
        "# Reshape array in-place to 2x3\n",
        "a.shape = (2,3)\n",
        "a"
      ],
      "metadata": {
        "colab": {
          "base_uri": "https://localhost:8080/"
        },
        "id": "ins-anWAPkN5",
        "outputId": "e26a2a72-b3d0-4375-e842-6a2d36d4d979"
      },
      "execution_count": 292,
      "outputs": [
        {
          "output_type": "execute_result",
          "data": {
            "text/plain": [
              "array([[0, 1, 2],\n",
              "       [3, 4, 5]])"
            ]
          },
          "metadata": {},
          "execution_count": 292
        }
      ]
    },
    {
      "cell_type": "markdown",
      "source": [
        "### **Flattering Arrays**"
      ],
      "metadata": {
        "id": "jTsO4oDIPvKM"
      }
    },
    {
      "cell_type": "markdown",
      "source": [
        "Converts multi-dim to 1-D array. The new array is a copy of original data."
      ],
      "metadata": {
        "id": "9-SRd9bZP3Ac"
      }
    },
    {
      "cell_type": "code",
      "source": [
        "# Create a 2D array\n",
        "a = np.array([[0,1],[2,3]])"
      ],
      "metadata": {
        "id": "HOCBom4vQGi5"
      },
      "execution_count": 293,
      "outputs": []
    },
    {
      "cell_type": "code",
      "source": [
        "a"
      ],
      "metadata": {
        "colab": {
          "base_uri": "https://localhost:8080/"
        },
        "id": "4dcNArXFQLHA",
        "outputId": "f39539dc-11fb-4ec5-c2d2-f5b8f3a48e5d"
      },
      "execution_count": 294,
      "outputs": [
        {
          "output_type": "execute_result",
          "data": {
            "text/plain": [
              "array([[0, 1],\n",
              "       [2, 3]])"
            ]
          },
          "metadata": {},
          "execution_count": 294
        }
      ]
    },
    {
      "cell_type": "code",
      "source": [
        "# Flatten out elements to 1D\n",
        "b = a.flatten()"
      ],
      "metadata": {
        "id": "SC_3Zy4hQNm9"
      },
      "execution_count": 295,
      "outputs": []
    },
    {
      "cell_type": "code",
      "source": [
        "b"
      ],
      "metadata": {
        "colab": {
          "base_uri": "https://localhost:8080/"
        },
        "id": "g1IVYcMsQQ5t",
        "outputId": "d9d8dc01-daf8-4ed7-bed4-588d76be6300"
      },
      "execution_count": 296,
      "outputs": [
        {
          "output_type": "execute_result",
          "data": {
            "text/plain": [
              "array([0, 1, 2, 3])"
            ]
          },
          "metadata": {},
          "execution_count": 296
        }
      ]
    }
  ]
}